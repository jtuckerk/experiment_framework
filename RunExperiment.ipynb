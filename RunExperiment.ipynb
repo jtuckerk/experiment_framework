{
 "cells": [
  {
   "cell_type": "markdown",
   "metadata": {
    "collapsed": false
   },
   "source": [
    "# Experiment Runner"
   ]
  },
  {
   "cell_type": "code",
   "execution_count": null,
   "metadata": {
    "colab": null,
    "colab_type": "code",
    "collapsed": false,
    "id": "PipJV5vmxp1V"
   },
   "outputs": [],
   "source": [
    "import os\n",
    "os.environ['SERVER_ADDR']='0.0.0.0:8072'"
   ]
  },
  {
   "cell_type": "code",
   "execution_count": null,
   "metadata": {
    "colab": {
     "base_uri": "https://localhost:8080/",
     "height": 227
    },
    "colab_type": "code",
    "collapsed": false,
    "id": "l-5Hq2nlD59v",
    "outputId": "e5992f49-1509-4b91-d3c7-ca787b17b523"
   },
   "outputs": [],
   "source": [
    "!wget  ${SERVER_ADDR}/experiment_runner.py"
   ]
  },
  {
   "cell_type": "markdown",
   "metadata": {
    "collapsed": false
   },
   "source": [
    "### Loading your data to GoogleDrive and mounting+copying may be faster."
   ]
  },
  {
   "cell_type": "code",
   "execution_count": null,
   "metadata": {
    "colab": {
     "base_uri": "https://localhost:8080/",
     "height": 38
    },
    "colab_type": "code",
    "collapsed": false,
    "id": "8jKQZXVBBrm3",
    "outputId": "8e45288d-e165-4568-a5a2-3eec5dcb9e36"
   },
   "outputs": [],
   "source": [
    "from google.colab import drive\n",
    "drive.mount('/content/drive')"
   ]
  },
  {
   "cell_type": "code",
   "execution_count": null,
   "metadata": {
    "colab": null,
    "colab_type": "code",
    "collapsed": false,
    "id": "K9t65bTYfpWc"
   },
   "outputs": [],
   "source": [
    "!cp /content/drive/'My Drive'/data.zip ."
   ]
  },
  {
   "cell_type": "code",
   "execution_count": null,
   "metadata": {
    "colab": {
     "base_uri": "https://localhost:8080/",
     "height": 143
    },
    "colab_type": "code",
    "collapsed": false,
    "id": "o7z93ToOtrZy",
    "outputId": "cd94ae75-27db-482f-9381-f7b706959570"
   },
   "outputs": [],
   "source": [
    "!unzip data.zip"
   ]
  },
  {
   "cell_type": "code",
   "execution_count": null,
   "metadata": {
    "colab": {
     "base_uri": "https://localhost:8080/",
     "height": 59
    },
    "colab_type": "code",
    "collapsed": false,
    "id": "zWx0WvM-bNtk",
    "outputId": "2953cf1c-710e-48ac-cecf-b008959e68c4"
   },
   "outputs": [],
   "source": [
    "# clean up old experiments\n",
    "!rm results/*; rm models/*"
   ]
  },
  {
   "cell_type": "code",
   "execution_count": null,
   "metadata": {
    "colab": {
     "base_uri": "https://localhost:8080/",
     "height": 1000
    },
    "colab_type": "code",
    "collapsed": false,
    "id": "kMlV9OSn0apa",
    "outputId": "c875608c-687c-41f5-e098-fa8ca1a0f0d3"
   },
   "outputs": [],
   "source": [
    "!python ./experiment_runner.py \\\n",
    "  --save_models=False \\\n",
    "  --download_scripts \\\n",
    "  --download_data=False \\\n",
    "  --address=${SERVER_ADDR} \\\n",
    "  --server_password=\"very_secure\""
   ]
  }
 ],
 "metadata": {
  "accelerator": "GPU",
  "colab": {
   "collapsed_sections": null,
   "name": "RunExperiment.ipynb",
   "provenance": null,
   "toc_visible": true
  },
  "kernelspec": {
   "argv": [
    "/usr/bin/python3",
    "-m",
    "ipykernel_launcher",
    "-f",
    "{connection_file}"
   ],
   "display_name": "Python 3",
   "env": null,
   "interrupt_mode": "signal",
   "language": "python",
   "metadata": null,
   "name": "python3"
  },
  "name": "RunExperiment.ipynb"
 },
 "nbformat": 4,
 "nbformat_minor": 0
}
